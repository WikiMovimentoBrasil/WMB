{
 "cells": [
  {
   "cell_type": "code",
   "execution_count": 2,
   "metadata": {},
   "outputs": [],
   "source": [
    "import requests\n",
    "from bs4 import BeautifulSoup\n",
    "import time        \n",
    "import re\n",
    "import io\n",
    "\n",
    "from pdfminer.pdfinterp import PDFResourceManager, PDFPageInterpreter\n",
    "from pdfminer.converter import TextConverter\n",
    "from pdfminer.layout import LAParams\n",
    "from pdfminer.pdfpage import PDFPage"
   ]
  },
  {
   "cell_type": "code",
   "execution_count": 3,
   "metadata": {},
   "outputs": [],
   "source": [
    "# convert_pdf_to_txt by: karpathy / hynekcer\n",
    "# @ https://stackoverflow.com/questions/5725278/how-do-i-use-pdfminer-as-a-library\n",
    "def convert_pdf_to_txt(path):\n",
    "    rsrcmgr = PDFResourceManager()\n",
    "    retstr = io.StringIO()\n",
    "    codec = 'utf-8'\n",
    "    laparams = LAParams()\n",
    "    device = TextConverter(rsrcmgr, retstr, laparams=laparams)\n",
    "    fp = open(path, 'rb')\n",
    "    interpreter = PDFPageInterpreter(rsrcmgr, device)\n",
    "    password = \"\"\n",
    "    maxpages = 0\n",
    "    caching = True\n",
    "    pagenos = set()\n",
    "\n",
    "    for page in PDFPage.get_pages(fp, pagenos, maxpages=maxpages,\n",
    "                                  password=password,\n",
    "                                  caching=caching,\n",
    "                                  check_extractable=True):\n",
    "        interpreter.process_page(page)\n",
    "\n",
    "    fp.close()\n",
    "    device.close()\n",
    "    text = retstr.getvalue()\n",
    "    retstr.close()\n",
    "    return text\n",
    "\n",
    "#a = convert_pdf_to_txt(\"bibliotecas/Guia_de_Bibliotecas.pdf\")\n",
    "b = convert_pdf_to_txt(\"bibliotecas/GuiaDeBibliotecasComunitarias.pdf\")\n",
    "original = b\n",
    "cidades = original.split(\"MUNICÍPIO\")"
   ]
  },
  {
   "cell_type": "code",
   "execution_count": 284,
   "metadata": {},
   "outputs": [],
   "source": [
    "class municipio:\n",
    "    def __init__(self, info):  \n",
    "        self.nome = info[0]\n",
    "        self.bibli = info[1]\n",
    "        self.end = info[2]\n",
    "        self.cep = info[3]\n",
    "        self.hora = info[4]\n",
    "        self.email = info[5]\n",
    "        self.tel = info[6]\n",
    "        self.resp = info[7]\n",
    "        self.pag = 0\n",
    "        \n",
    "    def print(self):\n",
    "        return(self.nome + \"*\" + self.bibli + \"*\" + self.end + \\\n",
    "             \"*\" + self.cep + \"*\" + self.hora + \"*\" + self.email + \\\n",
    "             \"*\" + self.tel + \"*\" + self.resp + \"\\n\")"
   ]
  },
  {
   "cell_type": "code",
   "execution_count": 285,
   "metadata": {},
   "outputs": [],
   "source": [
    "def get_info (cidade):\n",
    "    nome = cidade[0]\n",
    "    bibli = \"\"\n",
    "    end = \"\"\n",
    "    cep = \"\"\n",
    "    hora = \"\"\n",
    "    email = \"\"\n",
    "    tel = \"\"\n",
    "    resp = \"\"\n",
    "    \n",
    "    for i in range(len(cidade)):\n",
    "        if (re.match(\".*Biblioteca.*\", cidade[i])):\n",
    "            bibli = cidade[i].strip()\n",
    "        if (re.match(\".*End.*\", cidade[i])):\n",
    "            end = cidade[i + 1].strip()\n",
    "        if (re.match(\".*CEP.*\", cidade[i])):\n",
    "            cep = cidade[i][5:].strip()\n",
    "        if (re.match(\".*Hor.*\", cidade[i])):\n",
    "            hora = cidade[i + 1].strip()\n",
    "        if (re.match(\".*@.*\", cidade[i])):\n",
    "            email = cidade[i].strip()\n",
    "        if (re.match(\".*\\(\\d{2}\\).*\", cidade[i])):\n",
    "            tel = cidade[i].strip()\n",
    "        if (re.match(\".*Resp.*\", cidade[i])):\n",
    "            resp = cidade[i + 1].strip()\n",
    "    return nome, bibli, end, cep, hora, email, tel, resp"
   ]
  },
  {
   "cell_type": "code",
   "execution_count": 286,
   "metadata": {},
   "outputs": [
    {
     "name": "stdout",
     "output_type": "stream",
     "text": [
      "41\n"
     ]
    }
   ],
   "source": [
    "total = []\n",
    "t = 0\n",
    "for cidade in cidades:\n",
    "    cidade = cidade.split(\"\\n\")\n",
    "    cidade = [x for x in cidade if len(x) >= 3]\n",
    "    if len(cidade) > 1:\n",
    "        t += 1\n",
    "        total.append(municipio(get_info(cidade)))\n",
    "    \n",
    "print(t) #checar se pegou todas as cidades"
   ]
  },
  {
   "cell_type": "code",
   "execution_count": 291,
   "metadata": {},
   "outputs": [
    {
     "name": "stdout",
     "output_type": "stream",
     "text": [
      "7\n",
      "9\n",
      "11\n",
      "12\n",
      "14\n",
      "16\n",
      "18\n",
      "19\n",
      "20\n",
      "22\n",
      "23\n",
      "25\n",
      "27\n",
      "29\n",
      "30\n",
      "31\n",
      "33\n",
      "35\n",
      "36\n",
      "38\n",
      "39\n",
      "40\n",
      "41\n",
      "42\n",
      "43\n",
      "44\n",
      "45\n",
      "46\n",
      "47\n",
      "48\n",
      "49\n",
      "50\n",
      "51\n",
      "52\n",
      "53\n",
      "54\n",
      "55\n",
      "56\n",
      "57\n",
      "59\n",
      "60\n"
     ]
    }
   ],
   "source": [
    "from unidecode import unidecode\n",
    "\n",
    "count = 0\n",
    "pag_inicial = 7\n",
    "letra = \"A\"\n",
    "for t in total:\n",
    "    if (unidecode(t.nome[0]) != unidecode(letra)):\n",
    "        letra = t.nome[0]\n",
    "        count += 1\n",
    "    t.pag = pag_inicial + count\n",
    "    count += 1\n",
    "    \n",
    "for t in total:\n",
    "    print(t.pag)"
   ]
  },
  {
   "cell_type": "code",
   "execution_count": 289,
   "metadata": {},
   "outputs": [],
   "source": [
    "with open('bibliotecas/GuiaDeBibliotecasComunitarias.txt', 'w') as f:\n",
    "    for t in total:\n",
    "        f.write(t.nome + \"*\" + t.bibli + \"*\" + t.end + \\\n",
    "             \"*\" + t.cep + \"*\" + t.hora + \"*\" + t.email + \\\n",
    "             \"*\" + t.tel + \"*\" + t.resp + \"*\" + str(t.pag) + \"\\n\")"
   ]
  },
  {
   "cell_type": "code",
   "execution_count": null,
   "metadata": {},
   "outputs": [],
   "source": []
  }
 ],
 "metadata": {
  "kernelspec": {
   "display_name": "Python 3",
   "language": "python",
   "name": "python3"
  },
  "language_info": {
   "codemirror_mode": {
    "name": "ipython",
    "version": 3
   },
   "file_extension": ".py",
   "mimetype": "text/x-python",
   "name": "python",
   "nbconvert_exporter": "python",
   "pygments_lexer": "ipython3",
   "version": "3.8.5"
  }
 },
 "nbformat": 4,
 "nbformat_minor": 4
}
