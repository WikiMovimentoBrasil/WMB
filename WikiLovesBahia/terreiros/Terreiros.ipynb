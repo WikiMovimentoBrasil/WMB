{
 "cells": [
  {
   "cell_type": "code",
   "execution_count": 91,
   "metadata": {},
   "outputs": [],
   "source": [
    "import requests\n",
    "from bs4 import BeautifulSoup\n",
    "import time\n",
    "import re"
   ]
  },
  {
   "cell_type": "code",
   "execution_count": 92,
   "metadata": {},
   "outputs": [],
   "source": [
    "site = \"http://web.archive.org/web/20090324065458/http://www.terreiros.ceao.ufba.br/terreiro/config/\""
   ]
  },
  {
   "cell_type": "code",
   "execution_count": 93,
   "metadata": {},
   "outputs": [],
   "source": [
    "class terreiro:\n",
    "    def __init__(self, nome):  \n",
    "        self.nome =               nome\n",
    "        self.lideranca =          \"\"\n",
    "        self.nacao =              \"\"\n",
    "        self.fundacao =           \"\"\n",
    "        self.regente =            \"\"\n",
    "        self.endereco =           \"\"\n",
    "        self.bairro =             \"\"\n",
    "        self.CEP =                \"\"\n",
    "        self.telefone =           \"\"\n",
    "        \n",
    "    def print(self, file):\n",
    "        file.write(self.nome + \"*\" + self.lideranca + \"*\" + self.nacao + \"*\" + self.fundacao + \\\n",
    "             \"*\" + self.regente + \"*\" + self.endereco + \"*\" + self.bairro + \"*\" + \\\n",
    "             self.CEP + \"*\" + self.telefone + \"\\n\")\n",
    "        "
   ]
  },
  {
   "cell_type": "code",
   "execution_count": 94,
   "metadata": {},
   "outputs": [],
   "source": [
    "def parse_site(url):\n",
    "    websitetext = (requests.get(url)).text\n",
    "    soup = BeautifulSoup(websitetext, \"lxml\")\n",
    "    \n",
    "    for div in soup.find_all(\"div\", {\"id\" : \"terreiro_titulodescricao\"}):\n",
    "        nome = div.find(\"div\", {\"id\" : \"titulo\"})\n",
    "        nome = nome.findAll(text=True)\n",
    "        t = terreiro(nome[0].strip())\n",
    "        terreiros.append(t)\n",
    "        \n",
    "        descricao = div.find(\"div\", {\"id\" : \"descricao\"})\n",
    "        d = descricao.findAll(text=True)\n",
    "        t.lideranca = d[0].split(\":\")[1][1:].strip()\n",
    "        t.nacao = d[1].split(\":\")[1][1:].strip()\n",
    "        t.fundacao = d[2].split(\":\")[1][1:].strip()\n",
    "        t.regente = d[3].split(\":\")[1][1:].strip()\n",
    "        t.endereco = d[4].strip()\n",
    "        t.bairro = d[5].strip()\n",
    "        get_cep_tel(d, t)\n",
    "            \n",
    "def get_cep_tel(d, t):\n",
    "    for e in d:\n",
    "        if (re.match(\".*CEP:.*\", e)):\n",
    "            p = re.compile(\"CEP:.{10}\")\n",
    "            result = p.search(e)\n",
    "            t.CEP = result.group(0)[5:]\n",
    "        if (re.match(\".*Tel:.*\", e)):\n",
    "            p = re.compile(\"Tel:.{10}\")\n",
    "            result = p.search(e)\n",
    "            if(result):\n",
    "                t.telefone = result.group(0)[5:]\n",
    "            "
   ]
  },
  {
   "cell_type": "code",
   "execution_count": 95,
   "metadata": {},
   "outputs": [
    {
     "name": "stdout",
     "output_type": "stream",
     "text": [
      "1\n",
      "2\n",
      "3\n",
      "4\n",
      "5\n",
      "6\n",
      "7\n",
      "8\n",
      "9\n",
      "10\n",
      "11\n",
      "12\n",
      "13\n",
      "14\n",
      "15\n",
      "16\n",
      "17\n",
      "18\n",
      "19\n",
      "20\n",
      "21\n",
      "22\n",
      "23\n",
      "24\n",
      "25\n",
      "26\n",
      "27\n",
      "28\n",
      "29\n",
      "30\n",
      "31\n",
      "32\n",
      "33\n",
      "34\n",
      "35\n",
      "36\n",
      "37\n",
      "38\n",
      "39\n",
      "40\n",
      "41\n",
      "42\n",
      "43\n",
      "44\n",
      "45\n",
      "46\n",
      "47\n",
      "48\n",
      "49\n",
      "50\n",
      "51\n",
      "52\n",
      "53\n",
      "54\n",
      "55\n",
      "56\n",
      "57\n",
      "58\n",
      "59\n",
      "60\n",
      "61\n"
     ]
    }
   ],
   "source": [
    "terreiros = []\n",
    "\n",
    "parse_site(site)\n",
    "\n",
    "for i in range(1, 62):\n",
    "    print(i)\n",
    "    parse_site(site + str(i * 20))"
   ]
  },
  {
   "cell_type": "code",
   "execution_count": 96,
   "metadata": {},
   "outputs": [],
   "source": [
    "with open(\"terreiros.txt\", \"w\") as file:\n",
    "    file.write(\"nome*lideranca*nacao*ano de fundacao*regente*endereco*bairro*cep*telefone\\n\")\n",
    "    for t in terreiros:\n",
    "        t.print(file)\n"
   ]
  },
  {
   "cell_type": "code",
   "execution_count": 89,
   "metadata": {},
   "outputs": [
    {
     "ename": "ValueError",
     "evalue": "I/O operation on closed file.",
     "output_type": "error",
     "traceback": [
      "\u001b[0;31m---------------------------------------------------------------------------\u001b[0m",
      "\u001b[0;31mValueError\u001b[0m                                Traceback (most recent call last)",
      "\u001b[0;32m<ipython-input-89-e81e48aaa1f2>\u001b[0m in \u001b[0;36m<module>\u001b[0;34m\u001b[0m\n\u001b[1;32m      1\u001b[0m \u001b[0;32mfor\u001b[0m \u001b[0mt\u001b[0m \u001b[0;32min\u001b[0m \u001b[0mterreiros\u001b[0m\u001b[0;34m:\u001b[0m\u001b[0;34m\u001b[0m\u001b[0;34m\u001b[0m\u001b[0m\n\u001b[0;32m----> 2\u001b[0;31m     \u001b[0ma\u001b[0m \u001b[0;34m=\u001b[0m \u001b[0mt\u001b[0m\u001b[0;34m.\u001b[0m\u001b[0mprint\u001b[0m\u001b[0;34m(\u001b[0m\u001b[0mfile\u001b[0m\u001b[0;34m)\u001b[0m\u001b[0;34m\u001b[0m\u001b[0;34m\u001b[0m\u001b[0m\n\u001b[0m",
      "\u001b[0;32m<ipython-input-82-e767639ed740>\u001b[0m in \u001b[0;36mprint\u001b[0;34m(self, file)\u001b[0m\n\u001b[1;32m     12\u001b[0m \u001b[0;34m\u001b[0m\u001b[0m\n\u001b[1;32m     13\u001b[0m     \u001b[0;32mdef\u001b[0m \u001b[0mprint\u001b[0m\u001b[0;34m(\u001b[0m\u001b[0mself\u001b[0m\u001b[0;34m,\u001b[0m \u001b[0mfile\u001b[0m\u001b[0;34m)\u001b[0m\u001b[0;34m:\u001b[0m\u001b[0;34m\u001b[0m\u001b[0;34m\u001b[0m\u001b[0m\n\u001b[0;32m---> 14\u001b[0;31m         file.write(self.nome + \"*\" + self.lideranca + \"*\" + self.nacao + \"*\" + self.fundacao + \\\n\u001b[0m\u001b[1;32m     15\u001b[0m              \u001b[0;34m\"*\"\u001b[0m \u001b[0;34m+\u001b[0m \u001b[0mself\u001b[0m\u001b[0;34m.\u001b[0m\u001b[0mregente\u001b[0m \u001b[0;34m+\u001b[0m \u001b[0;34m\"*\"\u001b[0m \u001b[0;34m+\u001b[0m \u001b[0mself\u001b[0m\u001b[0;34m.\u001b[0m\u001b[0mendereco\u001b[0m \u001b[0;34m+\u001b[0m \u001b[0;34m\"*\"\u001b[0m \u001b[0;34m+\u001b[0m \u001b[0mself\u001b[0m\u001b[0;34m.\u001b[0m\u001b[0mbairro\u001b[0m \u001b[0;34m+\u001b[0m \u001b[0;34m\"*\"\u001b[0m \u001b[0;34m+\u001b[0m\u001b[0;31m \u001b[0m\u001b[0;31m\\\u001b[0m\u001b[0;34m\u001b[0m\u001b[0;34m\u001b[0m\u001b[0m\n\u001b[1;32m     16\u001b[0m              self.CEP + \"*\" + self.telefone + \"\\n\")\n",
      "\u001b[0;31mValueError\u001b[0m: I/O operation on closed file."
     ]
    }
   ],
   "source": [
    "for t in terreiros:\n",
    "    a = t.print(file)"
   ]
  },
  {
   "cell_type": "code",
   "execution_count": null,
   "metadata": {},
   "outputs": [],
   "source": []
  }
 ],
 "metadata": {
  "kernelspec": {
   "display_name": "Python 3",
   "language": "python",
   "name": "python3"
  },
  "language_info": {
   "codemirror_mode": {
    "name": "ipython",
    "version": 3
   },
   "file_extension": ".py",
   "mimetype": "text/x-python",
   "name": "python",
   "nbconvert_exporter": "python",
   "pygments_lexer": "ipython3",
   "version": "3.8.5"
  }
 },
 "nbformat": 4,
 "nbformat_minor": 4
}
