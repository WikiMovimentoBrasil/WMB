{
 "cells": [
  {
   "cell_type": "code",
   "execution_count": 1,
   "metadata": {},
   "outputs": [],
   "source": [
    "import requests\n",
    "from bs4 import BeautifulSoup\n",
    "import time        "
   ]
  },
  {
   "cell_type": "code",
   "execution_count": 3,
   "metadata": {},
   "outputs": [],
   "source": [
    "nome = []\n",
    "descricao = []\n",
    "endereco = []\n",
    "email = []\n",
    "tel = []\n",
    "telefone = []\n",
    "\n",
    "with open(\"bibliotecas/bibliotecasFederalBahia.txt\", \"r\") as file:\n",
    "    id = []\n",
    "    for ln in file:\n",
    "        if ln.startswith(\"*\"):\n",
    "            nome.append(ln[1:].strip())\n",
    "            descricao.append(\"Biblioteca do \" + next(file).strip())\n",
    "        if ln.startswith(\"End.:\"):\n",
    "            endereco.append(ln[6:].strip())\n",
    "        if (\"mail\" in ln):\n",
    "            tel.append(ln)\n"
   ]
  },
  {
   "cell_type": "code",
   "execution_count": null,
   "metadata": {},
   "outputs": [],
   "source": []
  }
 ],
 "metadata": {
  "kernelspec": {
   "display_name": "Python 3",
   "language": "python",
   "name": "python3"
  },
  "language_info": {
   "codemirror_mode": {
    "name": "ipython",
    "version": 3
   },
   "file_extension": ".py",
   "mimetype": "text/x-python",
   "name": "python",
   "nbconvert_exporter": "python",
   "pygments_lexer": "ipython3",
   "version": "3.8.5"
  }
 },
 "nbformat": 4,
 "nbformat_minor": 4
}
