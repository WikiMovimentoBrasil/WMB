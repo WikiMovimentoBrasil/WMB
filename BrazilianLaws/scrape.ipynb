{
 "cells": [
  {
   "cell_type": "code",
   "execution_count": 389,
   "metadata": {},
   "outputs": [],
   "source": [
    "from lxml import etree\n",
    "from lxml import objectify\n",
    "from xml.etree import cElementTree as ET\n",
    "import re\n",
    "import requests"
   ]
  },
  {
   "cell_type": "code",
   "execution_count": 390,
   "metadata": {},
   "outputs": [],
   "source": [
    "laws = []\n",
    "class lei:\n",
    "    def __init__(self):  \n",
    "        self.tipoDocumento = \"\"\n",
    "        self.date = \"\"\n",
    "        self.urn = \"\"\n",
    "        self.localidade = \"\"\n",
    "        self.autoridade = \"\"\n",
    "        self.title = []\n",
    "        self.descricao = []\n",
    "        self.identifier = \"\"\n",
    "        self.subject = []\n",
    "        \n",
    "    def print_self(self):\n",
    "        return(self.tipoDocumento + \"*\" + self.date + \"*\" + self.urn + \\\n",
    "               \"*\" + self.localidade + \"*\" + self.autoridade + \"*\" + \"*\".join(self.title) + \\\n",
    "               \"*\" + \"*\".join(self.descricao) + self.identifier +  \\\n",
    "               \"*\".join(self.subject) + \"\\n\")"
   ]
  },
  {
   "cell_type": "code",
   "execution_count": 391,
   "metadata": {},
   "outputs": [],
   "source": [
    "# namespace\n",
    "ns = {\n",
    "    'srw_dc': 'info:srw/schema/1/dc-schema',\n",
    "    'dc': 'http://purl.org/dc/elements/1.1/',\n",
    "    'srw': 'http://www.loc.gov/zing/srw/',\n",
    "    'xsi': 'http://www.w3.org/2001/XMLSchema'\n",
    "}\n",
    "\n",
    "tD = \"tipoDocumento\"\n",
    "date = \"{http://purl.org/dc/elements/1.1/}date\"\n",
    "urn = \"urn\"\n",
    "localidade = \"localidade\"\n",
    "autoridade = \"autoridade\"\n",
    "title = \"{http://purl.org/dc/elements/1.1/}title\"\n",
    "descrip = \"{http://purl.org/dc/elements/1.1/}description\"\n",
    "ID = \"{http://purl.org/dc/elements/1.1/}identifier\"\n",
    "subject = \"{http://purl.org/dc/elements/1.1/}subject\""
   ]
  },
  {
   "cell_type": "code",
   "execution_count": 392,
   "metadata": {},
   "outputs": [],
   "source": [
    "# Creates a lei object for the current item.  \n",
    "# Adds each value to it's respective tag\n",
    "\n",
    "def get_values(x):\n",
    "    new_law = lei()\n",
    "    for i in x.iter():\n",
    "        tag = i.tag\n",
    "        if tag == tD:\n",
    "            new_law.tipoDocumento = i.text\n",
    "        if tag == date:\n",
    "            new_law.date = i.text\n",
    "        if tag == urn:\n",
    "            new_law.urn = i.text\n",
    "        if tag == localidade:\n",
    "            new_law.localidade = i.text\n",
    "        if tag == autoridade:\n",
    "            new_law.autoridade = i.text\n",
    "        if tag == title:\n",
    "            new_law.title.append(i.text)\n",
    "        if tag == descrip:\n",
    "            new_law.descricao.append(i.text)\n",
    "        if tag == subject:\n",
    "            subjects = [x.strip() for x in re.split('[\\,\\.]', i.text)]\n",
    "            unique_subjects = list(set(subjects))\n",
    "            new_law.subject = unique_subjects\n",
    "    return new_law"
   ]
  },
  {
   "cell_type": "code",
   "execution_count": 393,
   "metadata": {},
   "outputs": [],
   "source": [
    "url = \"https://www.lexml.gov.br/busca/SRU?operation=searchRetrieve&query=urn+=%22lei+federal%22&maximumRecords=1000&startRecord=1\"\n",
    "\n",
    "req = requests.request('GET', url)\n",
    "a = req.content\n",
    "tree = etree.fromstring(a)\n",
    "\n",
    "\n",
    "\n",
    "# x stands for each XML entry in <srw_dc:dc>\n",
    "for x in tree.findall(\".//srw_dc:dc\", namespaces=ns):\n",
    "    new_law = get_values(x)\n",
    "    laws.append(new_law)"
   ]
  },
  {
   "cell_type": "code",
   "execution_count": 394,
   "metadata": {},
   "outputs": [],
   "source": [
    "file = open(\"f.txt\", \"w\")  \n",
    "for i in laws:\n",
    "    file.write(i.print_self())\n",
    "file.close()"
   ]
  },
  {
   "cell_type": "code",
   "execution_count": null,
   "metadata": {},
   "outputs": [],
   "source": []
  }
 ],
 "metadata": {
  "kernelspec": {
   "display_name": "Python 3",
   "language": "python",
   "name": "python3"
  },
  "language_info": {
   "codemirror_mode": {
    "name": "ipython",
    "version": 3
   },
   "file_extension": ".py",
   "mimetype": "text/x-python",
   "name": "python",
   "nbconvert_exporter": "python",
   "pygments_lexer": "ipython3",
   "version": "3.8.5"
  }
 },
 "nbformat": 4,
 "nbformat_minor": 4
}
