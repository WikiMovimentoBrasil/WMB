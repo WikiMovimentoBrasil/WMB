{
 "cells": [
  {
   "cell_type": "code",
   "execution_count": 11,
   "metadata": {},
   "outputs": [],
   "source": [
    "from lxml import etree\n",
    "from lxml import objectify\n",
    "from xml.etree import cElementTree as ET\n",
    "import re\n",
    "import requests\n",
    "import time"
   ]
  },
  {
   "cell_type": "code",
   "execution_count": 2,
   "metadata": {},
   "outputs": [],
   "source": [
    "class lei:\n",
    "    def __init__(self):  \n",
    "        self.tipoDocumento = \"\"\n",
    "        self.date = \"\"\n",
    "        self.urn = \"\"\n",
    "        self.localidade = \"\"\n",
    "        self.autoridade = \"\"\n",
    "        self.title = \"\"\n",
    "        self.descricao = \"\"\n",
    "        self.identifier = \"\"\n",
    "        self.subject = []\n",
    "        \n",
    "    def print_self(self):\n",
    "        return (self.tipoDocumento + \"*\" + self.date + \"*\" + self.urn + \\\n",
    "               \"*\" + self.localidade + \"*\" + self.autoridade + \"*\" + self.title + \\\n",
    "               \"*\" + self.descricao + \"*\" + self.identifier + \"*\" + \"*\".join(self.subject) + \"\\n\")"
   ]
  },
  {
   "cell_type": "code",
   "execution_count": 24,
   "metadata": {},
   "outputs": [],
   "source": [
    "# namespace\n",
    "ns = {\n",
    "    'srw_dc': 'info:srw/schema/1/dc-schema',\n",
    "    'dc': 'http://purl.org/dc/elements/1.1/',\n",
    "    'srw': 'http://www.loc.gov/zing/srw/',\n",
    "    'xsi': 'http://www.w3.org/2001/XMLSchema'\n",
    "}\n",
    "\n",
    "tD = \"tipoDocumento\"\n",
    "date = \"{http://purl.org/dc/elements/1.1/}date\"\n",
    "urn = \"urn\"\n",
    "localidade = \"localidade\"\n",
    "autoridade = \"autoridade\"\n",
    "title = \"{http://purl.org/dc/elements/1.1/}title\"\n",
    "descrip = \"{http://purl.org/dc/elements/1.1/}description\"\n",
    "ID = \"{http://purl.org/dc/elements/1.1/}identifier\"\n",
    "subject = \"{http://purl.org/dc/elements/1.1/}subject\""
   ]
  },
  {
   "cell_type": "code",
   "execution_count": 25,
   "metadata": {},
   "outputs": [],
   "source": [
    "# Creates a lei object for the current item.  \n",
    "# Adds each value to it's respective tag\n",
    "\n",
    "def get_values(x):\n",
    "    new_law = lei()\n",
    "    for i in x.iter():\n",
    "        tag = i.tag\n",
    "        if tag == tD:\n",
    "            new_law.tipoDocumento = i.text\n",
    "        if tag == date:\n",
    "            new_law.date = i.text\n",
    "        if tag == urn:\n",
    "            new_law.urn = i.text\n",
    "        if tag == localidade:\n",
    "            new_law.localidade = i.text\n",
    "        if tag == autoridade:\n",
    "            new_law.autoridade = i.text\n",
    "        if tag == title:\n",
    "            new_law.title = i.text\n",
    "        if tag == descrip:\n",
    "            description = i.text\n",
    "            if (description is not None):\n",
    "                new_law.descricao = description\n",
    "        if tag == ID:\n",
    "            new_law.identifier = i.text\n",
    "        if tag == subject:\n",
    "            subjects = [x.strip() for x in re.split('\\s[,.]\\s', i.text)]\n",
    "            unique_subjects = list(set(subjects))\n",
    "            new_law.subject = unique_subjects\n",
    "    return new_law    "
   ]
  },
  {
   "cell_type": "code",
   "execution_count": 26,
   "metadata": {},
   "outputs": [],
   "source": [
    "def scrape_site (url_base, laws, file_name):\n",
    "    for i in range(0, 32):\n",
    "        url = url_base + str(i * 500 + 1)\n",
    "        req = requests.request('GET', url)\n",
    "        a = req.content\n",
    "        tree = etree.fromstring(a)\n",
    "\n",
    "        # x stands for each XML entry in <srw_dc:dc>\n",
    "        for x in tree.findall(\".//srw_dc:dc\", namespaces=ns):\n",
    "            new_law = get_values(x)\n",
    "            laws.append(new_law)\n",
    "\n",
    "        time.sleep(1)\n",
    "        print(\"sleep \" + str(i))\n",
    "        \n",
    "    file = open(file_name, \"w\")  \n",
    "    file.write(\"tipo de documento*data*urn*localidade*autoridade*título*descricao*identifier*assuntos->\\n\")\n",
    "    for i in laws:\n",
    "        file.write(i.tipoDocumento + \"*\" + i.date + \"*\" + i.urn + \\\n",
    "                   \"*\" + i.localidade + \"*\" + i.autoridade + \"*\" + i.title + \\\n",
    "                   \"*\" + i.descricao + \"*\" + i.identifier + \"*\" + \"*\".join(i.subject) + \"\\n\")\n",
    "    return laws\n",
    "\n"
   ]
  },
  {
   "cell_type": "code",
   "execution_count": 28,
   "metadata": {},
   "outputs": [
    {
     "name": "stdout",
     "output_type": "stream",
     "text": [
      "sleep 0\n",
      "sleep 1\n",
      "sleep 2\n",
      "sleep 3\n",
      "sleep 4\n",
      "sleep 5\n",
      "sleep 6\n",
      "sleep 7\n",
      "sleep 8\n",
      "sleep 9\n",
      "sleep 10\n",
      "sleep 11\n",
      "sleep 12\n",
      "sleep 13\n",
      "sleep 14\n",
      "sleep 15\n",
      "sleep 16\n",
      "sleep 17\n",
      "sleep 18\n",
      "sleep 19\n",
      "sleep 20\n",
      "sleep 21\n",
      "sleep 22\n",
      "sleep 23\n",
      "sleep 24\n",
      "sleep 25\n",
      "sleep 26\n",
      "sleep 27\n",
      "sleep 28\n",
      "sleep 29\n",
      "sleep 30\n",
      "sleep 31\n"
     ]
    }
   ],
   "source": [
    "url = \"https://www.lexml.gov.br/busca/SRU?operation=searchRetrieve&query=urn+=%22lei+federal%22&maximumRecords=500&startRecord=\" \n",
    "#url = \"https://www.lexml.gov.br/busca/SRU?operation=searchRetrieve&query=urn+=%22federal+decreto.lei%22&maximumRecords=500&startRecord=\"\n",
    "\n",
    "\n",
    "laws = []\n",
    "laws = scrape_site(url, laws, \"leis.txt\")\n"
   ]
  },
  {
   "cell_type": "code",
   "execution_count": 31,
   "metadata": {},
   "outputs": [],
   "source": [
    "def get_lexico (lexico, x):\n",
    "    for i in x.iter():\n",
    "        tag = i.tag\n",
    "        if tag == subject:\n",
    "            subjects = [x.strip() for x in re.split('\\s[,.]\\s', i.text)]\n",
    "            unique_subjects = list(set(subjects))\n",
    "            lexico = list(set(lexico + unique_subjects))\n",
    "    return lexico\n",
    "\n",
    "def scrape_lexico(url_base, lexico, file_name):\n",
    "    for i in range(0, 32):\n",
    "        url = url_base + str(i * 500 + 1)\n",
    "        req = requests.request('GET', url)\n",
    "        a = req.content\n",
    "        tree = etree.fromstring(a)\n",
    "\n",
    "        # x stands for each XML entry in <srw_dc:dc>\n",
    "        for x in tree.findall(\".//srw_dc:dc\", namespaces=ns):\n",
    "            lexico = get_lexico(lexico, x)\n",
    "\n",
    "        time.sleep(0.5)\n",
    "        \n",
    "    file = open(file_name, \"w\")  \n",
    "    lexico = sorted(lexico)\n",
    "    for i in lexico:\n",
    "        file.write(i + \"\\n\")\n",
    "    file.close()\n",
    "    \n",
    "    return lexico"
   ]
  },
  {
   "cell_type": "code",
   "execution_count": 33,
   "metadata": {},
   "outputs": [],
   "source": [
    "#url = \"https://www.lexml.gov.br/busca/SRU?operation=searchRetrieve&query=urn+=%22lei+federal%22&maximumRecords=500&startRecord=\" \n",
    "url = \"https://www.lexml.gov.br/busca/SRU?operation=searchRetrieve&query=urn+=%22federal+decreto.lei%22&maximumRecords=500&startRecord=\"\n",
    "\n",
    "lexico = []\n",
    "lexico = scrape_lexico(url, lexico, \"lexico-decretos-lei.txt\")\n",
    "\n"
   ]
  },
  {
   "cell_type": "markdown",
   "metadata": {},
   "source": [
    "The two lexicon files generated can be merged in the command line using:\n",
    "\n",
    "> sort file1.txt file2.txt | uniq > exit_file"
   ]
  },
  {
   "cell_type": "code",
   "execution_count": 34,
   "metadata": {},
   "outputs": [
    {
     "data": {
      "text/plain": [
       "7949"
      ]
     },
     "execution_count": 34,
     "metadata": {},
     "output_type": "execute_result"
    }
   ],
   "source": [
    "len(lexico)"
   ]
  },
  {
   "cell_type": "code",
   "execution_count": 9,
   "metadata": {},
   "outputs": [],
   "source": [
    "a = lei()\n",
    "\n",
    "t = \"date\"\n",
    "\n",
    "a.t = \"a\"\n",
    "a.date = \"aaa\"\n",
    "\n",
    "\n",
    "tD = \"tipoDocumento\"\n",
    "date = \"{http://purl.org/dc/elements/1.1/}date\"\n",
    "urn = \"urn\"\n",
    "localidade = \"localidade\"\n",
    "autoridade = \"autoridade\"\n",
    "title = \"{http://purl.org/dc/elements/1.1/}title\"\n",
    "descrip = \"{http://purl.org/dc/elements/1.1/}description\"\n",
    "ID = \"{http://purl.org/dc/elements/1.1/}identifier\"\n",
    "subject = \"{http://purl.org/dc/elements/1.1/}subject\"\n",
    "\n",
    "lista = ()"
   ]
  },
  {
   "cell_type": "code",
   "execution_count": 8,
   "metadata": {},
   "outputs": [
    {
     "data": {
      "text/plain": [
       "'aaa'"
      ]
     },
     "execution_count": 8,
     "metadata": {},
     "output_type": "execute_result"
    }
   ],
   "source": [
    "if a in lista:\n",
    "    "
   ]
  },
  {
   "cell_type": "code",
   "execution_count": 21,
   "metadata": {},
   "outputs": [
    {
     "data": {
      "text/plain": [
       "8630"
      ]
     },
     "execution_count": 21,
     "metadata": {},
     "output_type": "execute_result"
    }
   ],
   "source": []
  },
  {
   "cell_type": "code",
   "execution_count": null,
   "metadata": {},
   "outputs": [],
   "source": []
  }
 ],
 "metadata": {
  "kernelspec": {
   "display_name": "Python 3",
   "language": "python",
   "name": "python3"
  },
  "language_info": {
   "codemirror_mode": {
    "name": "ipython",
    "version": 3
   },
   "file_extension": ".py",
   "mimetype": "text/x-python",
   "name": "python",
   "nbconvert_exporter": "python",
   "pygments_lexer": "ipython3",
   "version": "3.8.5"
  }
 },
 "nbformat": 4,
 "nbformat_minor": 4
}
