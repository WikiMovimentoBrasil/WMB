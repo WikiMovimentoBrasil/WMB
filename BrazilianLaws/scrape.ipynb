{
 "cells": [
  {
   "cell_type": "code",
   "execution_count": 583,
   "metadata": {},
   "outputs": [
    {
     "data": {
      "text/plain": [
       "\"\\n\\nDocumentation notes:\\n\\n- By a laws' subject, I mean P1269 (facets of).\\n\\n\\n\""
      ]
     },
     "execution_count": 583,
     "metadata": {},
     "output_type": "execute_result"
    }
   ],
   "source": [
    "\"\"\"\n",
    "\n",
    "Documentation notes:\n",
    "\n",
    "- By a laws' subject, I mean P1269 (facets of).\n",
    "\n",
    "\n",
    "\"\"\""
   ]
  },
  {
   "cell_type": "code",
   "execution_count": 581,
   "metadata": {},
   "outputs": [],
   "source": [
    "from lxml import etree\n",
    "import re\n",
    "import requests"
   ]
  },
  {
   "cell_type": "code",
   "execution_count": 582,
   "metadata": {},
   "outputs": [],
   "source": [
    "class law:\n",
    "    def __init__(self):  \n",
    "        self.tipo = \"\"\n",
    "        self.date = \"\"\n",
    "        self.urn = \"\"\n",
    "        self.localidade = \"\"\n",
    "        self.autoridade = \"\"\n",
    "        self.title = \"\"\n",
    "        self.description = \"\"\n",
    "        self.identifier = \"\"\n",
    "        self.subject = []\n",
    "        \n",
    "    def print_self(self):\n",
    "        return (self.tipo + \"*\" + self.date + \"*\" + self.urn + \\\n",
    "               \"*\" + self.localidade + \"*\" + self.autoridade + \"*\" + self.title + \\\n",
    "               \"*\" + self.description + \"*\" + self.identifier + \"*\" + \"*\".join(self.subject) + \"\\n\")\n",
    "class lexicon:\n",
    "    def __init__(self, word, count):\n",
    "        self.word = word\n",
    "        self.count = count"
   ]
  },
  {
   "cell_type": "code",
   "execution_count": 575,
   "metadata": {},
   "outputs": [],
   "source": [
    "# Namespace\n",
    "ns = {\n",
    "    'srw_dc': 'info:srw/schema/1/dc-schema',\n",
    "    'dc'    : 'http://purl.org/dc/elements/1.1/',\n",
    "    'srw'   : 'http://www.loc.gov/zing/srw/',\n",
    "    'xsi'   : 'http://www.w3.org/2001/XMLSchema'\n",
    "}\n",
    "\n",
    "# Attributes that will be extracted from each item\n",
    "tipo        = \"tipoDocumento\"\n",
    "date        = \"{http://purl.org/dc/elements/1.1/}date\"\n",
    "urn         = \"urn\"\n",
    "localidade  = \"localidade\"\n",
    "autoridade  = \"autoridade\"\n",
    "title       = \"{http://purl.org/dc/elements/1.1/}title\"\n",
    "description = \"{http://purl.org/dc/elements/1.1/}description\"\n",
    "identifier  = \"{http://purl.org/dc/elements/1.1/}identifier\"\n",
    "subject     = \"{http://purl.org/dc/elements/1.1/}subject\"\n",
    "\n",
    "attributes  = {tipo, date, urn, localidade, autoridade, title, description, identifier}"
   ]
  },
  {
   "cell_type": "code",
   "execution_count": 576,
   "metadata": {},
   "outputs": [],
   "source": [
    "\"\"\"\n",
    "Creates a law object for the current item, adding each value\n",
    "extracted from it to it's respective attribute. \n",
    "\"\"\"\n",
    "def get_values(x):\n",
    "    new_law = law()\n",
    "    for i in x.iter():\n",
    "        tag = i.tag\n",
    "        if tag == tD:\n",
    "            new_law.tipo = i.text\n",
    "        elif tag == date:\n",
    "            new_law.date = i.text\n",
    "        elif tag == urn:\n",
    "            new_law.urn = i.text\n",
    "        elif tag == localidade:\n",
    "            new_law.localidade = i.text\n",
    "        elif tag == autoridade:\n",
    "            new_law.autoridade = i.text\n",
    "        elif tag == title:\n",
    "            new_law.title = i.text\n",
    "        elif tag == description:\n",
    "            if (i.text is not None):\n",
    "                new_law.description = i.text\n",
    "        elif tag == ID:\n",
    "            new_law.identifier = i.text\n",
    "        elif tag == subject:\n",
    "            subjects = [x.strip() for x in re.split('\\s[,.]\\s', i.text)]\n",
    "            unique_subjects = list(set(subjects))\n",
    "            for i in range(0, len(unique_subjects)):\n",
    "                if (\" .\" in unique_subjects[i]):\n",
    "                    unique_subjects[i] = unique_subjects[i][:-2]\n",
    "            new_law.subject = unique_subjects\n",
    "    return new_law"
   ]
  },
  {
   "cell_type": "code",
   "execution_count": 577,
   "metadata": {},
   "outputs": [],
   "source": [
    "\"\"\"\n",
    "Gets the lexicon of subjects of all laws. Some laws list the \n",
    "same exact topic under it's subject twice. Those repetitions are discarded.\n",
    "\"\"\"\n",
    "def get_lexicon(laws):\n",
    "    lex = []\n",
    "    for l in laws:\n",
    "        for s in l.subject:\n",
    "            lex.append(s)\n",
    "    lexicon = collections.Counter(lex)\n",
    "    lexicon = sorted(lexicon.items(), key = lambda lex: lex[1], reverse = True)\n",
    "    return lexicon\n",
    "\n",
    "\n",
    "\"\"\"\n",
    "Prints the lexicon into file_name_lexicon.txt, in the format:\n",
    "total_of_occurrences*word\n",
    "\"\"\"\n",
    "def print_lexicon(lexicon, file_name):\n",
    "    file_lex = open(file_name + \"_lexicon.txt\", \"w\")\n",
    "    for key, value in lexicon:\n",
    "        file_lex.write(str(value) + \"*\" + key + \"\\n\")\n",
    "    file_lex.close()\n",
    "    \n",
    "    \n",
    "\"\"\"    \n",
    "Prints all data scraped from the laws into file_name.txt, \n",
    "separeted by *, in the format:\n",
    "Type_of_document*date*urn*locality*authority*title*description*identifier*subjects\n",
    "\"\"\"\n",
    "def print_scraped_info(laws, file_name):\n",
    "    file = open(file_name + \".txt\", \"w\")  \n",
    "    file.write(\"tipo de documento*data*urn*localidade*autoridade*\" + \\\n",
    "               \"título*descricao*identifier*assuntos->\\n\")\n",
    "    for i in laws:\n",
    "        file.write(i.print_self())\n",
    "    file.close()\n",
    "        \n",
    "        \n",
    "\"\"\"    \n",
    "Scrapes all laws in url_base, in the range [1, 500 * n].\n",
    "Returns a list of objects with each laws' attributes in laws[],\n",
    "and prints the result to file_name.txt. Entries are separated by *.\n",
    "If lexicon_flag is useg, a file_name_lexicon.txt is also generated\n",
    "with the lexicon of subjects in descending order of how often that \n",
    "subject as appeared.\n",
    "\"\"\"\n",
    "def scrape_site (url_base, laws, file_name, n, lexicon_flag = False):\n",
    "    for i in range(0, n):\n",
    "        url = url_base + str(i * 500 + 1)\n",
    "        req = requests.request('GET', url)\n",
    "        tree = etree.fromstring(req.content)\n",
    "\n",
    "        # x stands for each entry in <srw_dc:dc>\n",
    "        for x in tree.findall(\".//srw_dc:dc\", namespaces=ns):\n",
    "            new_law = get_values(x)\n",
    "            laws.append(new_law)\n",
    "            \n",
    "    if (lexicon_flag):\n",
    "        lexicon = get_lexicon(laws)\n",
    "        print_lexicon(lexicon, file_name)\n",
    "    \n",
    "    print_scraped_info(laws, file_name)\n",
    "    \n",
    "    return laws\n"
   ]
  },
  {
   "cell_type": "code",
   "execution_count": 585,
   "metadata": {},
   "outputs": [],
   "source": [
    "url = \"https://www.lexml.gov.br/busca/SRU?operation=searchRetrieve&query=urn+=%22lei+federal%22&maximumRecords=500&startRecord=\" \n",
    "#url = \"https://www.lexml.gov.br/busca/SRU?operation=searchRetrieve&query=urn+=%22federal+decreto.lei%22&maximumRecords=500&startRecord=\"\n",
    "\n",
    "\n",
    "laws = []\n",
    "laws = scrape_site(url, laws, \"teste_novo\", 1)"
   ]
  },
  {
   "cell_type": "markdown",
   "metadata": {},
   "source": [
    "The two lexicon files generated can be merged in the command line using:\n",
    "\n",
    "> sort file1.txt file2.txt | uniq > exit_file"
   ]
  },
  {
   "cell_type": "code",
   "execution_count": 278,
   "metadata": {},
   "outputs": [
    {
     "ename": "AttributeError",
     "evalue": "'NoneType' object has no attribute 'strip'",
     "output_type": "error",
     "traceback": [
      "\u001b[0;31m---------------------------------------------------------------------------\u001b[0m",
      "\u001b[0;31mAttributeError\u001b[0m                            Traceback (most recent call last)",
      "\u001b[0;32m<ipython-input-278-5d0dd5ebf600>\u001b[0m in \u001b[0;36m<module>\u001b[0;34m\u001b[0m\n\u001b[1;32m      3\u001b[0m \u001b[0;34m\u001b[0m\u001b[0m\n\u001b[1;32m      4\u001b[0m \u001b[0mlexico\u001b[0m \u001b[0;34m=\u001b[0m \u001b[0;34m[\u001b[0m\u001b[0;34m]\u001b[0m\u001b[0;34m\u001b[0m\u001b[0;34m\u001b[0m\u001b[0m\n\u001b[0;32m----> 5\u001b[0;31m \u001b[0mlexico\u001b[0m \u001b[0;34m=\u001b[0m \u001b[0mscrape_lexico\u001b[0m\u001b[0;34m(\u001b[0m\u001b[0murl\u001b[0m\u001b[0;34m,\u001b[0m \u001b[0mlexico\u001b[0m\u001b[0;34m,\u001b[0m \u001b[0;34m\"lexico-decretos-lei.txt\"\u001b[0m\u001b[0;34m)\u001b[0m\u001b[0;34m\u001b[0m\u001b[0;34m\u001b[0m\u001b[0m\n\u001b[0m\u001b[1;32m      6\u001b[0m \u001b[0;34m\u001b[0m\u001b[0m\n",
      "\u001b[0;32m<ipython-input-277-565b0d2febfa>\u001b[0m in \u001b[0;36mscrape_lexico\u001b[0;34m(url_base, lexico, file_name)\u001b[0m\n\u001b[1;32m     17\u001b[0m         \u001b[0;31m# x stands for each XML entry in <srw_dc:dc>\u001b[0m\u001b[0;34m\u001b[0m\u001b[0;34m\u001b[0m\u001b[0;34m\u001b[0m\u001b[0m\n\u001b[1;32m     18\u001b[0m         \u001b[0;32mfor\u001b[0m \u001b[0mx\u001b[0m \u001b[0;32min\u001b[0m \u001b[0mtree\u001b[0m\u001b[0;34m.\u001b[0m\u001b[0mfindall\u001b[0m\u001b[0;34m(\u001b[0m\u001b[0;34m\".//srw_dc:dc\"\u001b[0m\u001b[0;34m,\u001b[0m \u001b[0mnamespaces\u001b[0m\u001b[0;34m=\u001b[0m\u001b[0mns\u001b[0m\u001b[0;34m)\u001b[0m\u001b[0;34m:\u001b[0m\u001b[0;34m\u001b[0m\u001b[0;34m\u001b[0m\u001b[0m\n\u001b[0;32m---> 19\u001b[0;31m             \u001b[0mlexico\u001b[0m \u001b[0;34m=\u001b[0m \u001b[0mget_lexico\u001b[0m\u001b[0;34m(\u001b[0m\u001b[0mlexico\u001b[0m\u001b[0;34m,\u001b[0m \u001b[0mx\u001b[0m\u001b[0;34m)\u001b[0m\u001b[0;34m\u001b[0m\u001b[0;34m\u001b[0m\u001b[0m\n\u001b[0m\u001b[1;32m     20\u001b[0m \u001b[0;34m\u001b[0m\u001b[0m\n\u001b[1;32m     21\u001b[0m         \u001b[0mtime\u001b[0m\u001b[0;34m.\u001b[0m\u001b[0msleep\u001b[0m\u001b[0;34m(\u001b[0m\u001b[0;36m0.5\u001b[0m\u001b[0;34m)\u001b[0m\u001b[0;34m\u001b[0m\u001b[0;34m\u001b[0m\u001b[0m\n",
      "\u001b[0;32m<ipython-input-277-565b0d2febfa>\u001b[0m in \u001b[0;36mget_lexico\u001b[0;34m(lexico, x)\u001b[0m\n\u001b[1;32m      3\u001b[0m         \u001b[0mtag\u001b[0m \u001b[0;34m=\u001b[0m \u001b[0mi\u001b[0m\u001b[0;34m.\u001b[0m\u001b[0mtag\u001b[0m\u001b[0;34m\u001b[0m\u001b[0;34m\u001b[0m\u001b[0m\n\u001b[1;32m      4\u001b[0m         \u001b[0;32mif\u001b[0m \u001b[0mtag\u001b[0m \u001b[0;34m==\u001b[0m \u001b[0msubject\u001b[0m\u001b[0;34m:\u001b[0m\u001b[0;34m\u001b[0m\u001b[0;34m\u001b[0m\u001b[0m\n\u001b[0;32m----> 5\u001b[0;31m             \u001b[0msubjects\u001b[0m \u001b[0;34m=\u001b[0m \u001b[0;34m[\u001b[0m\u001b[0mx\u001b[0m\u001b[0;34m.\u001b[0m\u001b[0mstrip\u001b[0m\u001b[0;34m(\u001b[0m\u001b[0;34m)\u001b[0m \u001b[0;32mfor\u001b[0m \u001b[0mx\u001b[0m \u001b[0;32min\u001b[0m \u001b[0mre\u001b[0m\u001b[0;34m.\u001b[0m\u001b[0msplit\u001b[0m\u001b[0;34m(\u001b[0m\u001b[0;34m'(\\s[,.]\\s)|(\\s[.])'\u001b[0m\u001b[0;34m,\u001b[0m \u001b[0mi\u001b[0m\u001b[0;34m.\u001b[0m\u001b[0mtext\u001b[0m\u001b[0;34m)\u001b[0m\u001b[0;34m]\u001b[0m\u001b[0;34m\u001b[0m\u001b[0;34m\u001b[0m\u001b[0m\n\u001b[0m\u001b[1;32m      6\u001b[0m             \u001b[0munique_subjects\u001b[0m \u001b[0;34m=\u001b[0m \u001b[0mlist\u001b[0m\u001b[0;34m(\u001b[0m\u001b[0mset\u001b[0m\u001b[0;34m(\u001b[0m\u001b[0msubjects\u001b[0m\u001b[0;34m)\u001b[0m\u001b[0;34m)\u001b[0m\u001b[0;34m\u001b[0m\u001b[0;34m\u001b[0m\u001b[0m\n\u001b[1;32m      7\u001b[0m             \u001b[0mlexico\u001b[0m \u001b[0;34m=\u001b[0m \u001b[0mlist\u001b[0m\u001b[0;34m(\u001b[0m\u001b[0mset\u001b[0m\u001b[0;34m(\u001b[0m\u001b[0mlexico\u001b[0m \u001b[0;34m+\u001b[0m \u001b[0munique_subjects\u001b[0m\u001b[0;34m)\u001b[0m\u001b[0;34m)\u001b[0m\u001b[0;34m\u001b[0m\u001b[0;34m\u001b[0m\u001b[0m\n",
      "\u001b[0;32m<ipython-input-277-565b0d2febfa>\u001b[0m in \u001b[0;36m<listcomp>\u001b[0;34m(.0)\u001b[0m\n\u001b[1;32m      3\u001b[0m         \u001b[0mtag\u001b[0m \u001b[0;34m=\u001b[0m \u001b[0mi\u001b[0m\u001b[0;34m.\u001b[0m\u001b[0mtag\u001b[0m\u001b[0;34m\u001b[0m\u001b[0;34m\u001b[0m\u001b[0m\n\u001b[1;32m      4\u001b[0m         \u001b[0;32mif\u001b[0m \u001b[0mtag\u001b[0m \u001b[0;34m==\u001b[0m \u001b[0msubject\u001b[0m\u001b[0;34m:\u001b[0m\u001b[0;34m\u001b[0m\u001b[0;34m\u001b[0m\u001b[0m\n\u001b[0;32m----> 5\u001b[0;31m             \u001b[0msubjects\u001b[0m \u001b[0;34m=\u001b[0m \u001b[0;34m[\u001b[0m\u001b[0mx\u001b[0m\u001b[0;34m.\u001b[0m\u001b[0mstrip\u001b[0m\u001b[0;34m(\u001b[0m\u001b[0;34m)\u001b[0m \u001b[0;32mfor\u001b[0m \u001b[0mx\u001b[0m \u001b[0;32min\u001b[0m \u001b[0mre\u001b[0m\u001b[0;34m.\u001b[0m\u001b[0msplit\u001b[0m\u001b[0;34m(\u001b[0m\u001b[0;34m'(\\s[,.]\\s)|(\\s[.])'\u001b[0m\u001b[0;34m,\u001b[0m \u001b[0mi\u001b[0m\u001b[0;34m.\u001b[0m\u001b[0mtext\u001b[0m\u001b[0;34m)\u001b[0m\u001b[0;34m]\u001b[0m\u001b[0;34m\u001b[0m\u001b[0;34m\u001b[0m\u001b[0m\n\u001b[0m\u001b[1;32m      6\u001b[0m             \u001b[0munique_subjects\u001b[0m \u001b[0;34m=\u001b[0m \u001b[0mlist\u001b[0m\u001b[0;34m(\u001b[0m\u001b[0mset\u001b[0m\u001b[0;34m(\u001b[0m\u001b[0msubjects\u001b[0m\u001b[0;34m)\u001b[0m\u001b[0;34m)\u001b[0m\u001b[0;34m\u001b[0m\u001b[0;34m\u001b[0m\u001b[0m\n\u001b[1;32m      7\u001b[0m             \u001b[0mlexico\u001b[0m \u001b[0;34m=\u001b[0m \u001b[0mlist\u001b[0m\u001b[0;34m(\u001b[0m\u001b[0mset\u001b[0m\u001b[0;34m(\u001b[0m\u001b[0mlexico\u001b[0m \u001b[0;34m+\u001b[0m \u001b[0munique_subjects\u001b[0m\u001b[0;34m)\u001b[0m\u001b[0;34m)\u001b[0m\u001b[0;34m\u001b[0m\u001b[0;34m\u001b[0m\u001b[0m\n",
      "\u001b[0;31mAttributeError\u001b[0m: 'NoneType' object has no attribute 'strip'"
     ]
    }
   ],
   "source": [
    "#url = \"https://www.lexml.gov.br/busca/SRU?operation=searchRetrieve&query=urn+=%22lei+federal%22&maximumRecords=500&startRecord=\" \n",
    "url = \"https://www.lexml.gov.br/busca/SRU?operation=searchRetrieve&query=urn+=%22federal+decreto.lei%22&maximumRecords=500&startRecord=\"\n",
    "\n",
    "lexico = []\n",
    "lexico = scrape_lexico(url, lexico, \"lexico-decretos-lei.txt\")\n",
    "\n"
   ]
  },
  {
   "cell_type": "code",
   "execution_count": 34,
   "metadata": {},
   "outputs": [
    {
     "data": {
      "text/plain": [
       "7949"
      ]
     },
     "execution_count": 34,
     "metadata": {},
     "output_type": "execute_result"
    }
   ],
   "source": [
    "len(lexico)"
   ]
  },
  {
   "cell_type": "code",
   "execution_count": 137,
   "metadata": {},
   "outputs": [
    {
     "name": "stdout",
     "output_type": "stream",
     "text": [
      "autoridade\n",
      "urn\n",
      "localidade\n",
      "tipoDocumento\n",
      "{http://purl.org/dc/elements/1.1/}title\n",
      "{http://purl.org/dc/elements/1.1/}identifier\n",
      "{http://purl.org/dc/elements/1.1/}description\n",
      "{http://purl.org/dc/elements/1.1/}date\n",
      "autoridade\n"
     ]
    }
   ],
   "source": [
    "attributes = {tD, date, urn, localidade, autoridade, title, descrip, ID}\n",
    "\n",
    "s = \"oi\"\n",
    "\n",
    "if [s is a for a in attributes]:\n",
    "    print(a)\n",
    "    \n",
    "\n",
    "for a in attributes:\n",
    "    print(a)"
   ]
  },
  {
   "cell_type": "code",
   "execution_count": 157,
   "metadata": {},
   "outputs": [
    {
     "name": "stdout",
     "output_type": "stream",
     "text": [
      "[False, False, False, False, True, False, False, False]\n"
     ]
    }
   ],
   "source": [
    "tag = \"{http://purl.org/dc/elements/1.1/}description\"\n",
    "\n",
    "if [a in tag for a in attributes]:\n",
    "    t = [a in tag for a in attributes]\n",
    "    print(t)"
   ]
  },
  {
   "cell_type": "code",
   "execution_count": 153,
   "metadata": {},
   "outputs": [],
   "source": [
    "if autoridade in tag:\n",
    "    print (\"x\")"
   ]
  },
  {
   "cell_type": "code",
   "execution_count": null,
   "metadata": {},
   "outputs": [],
   "source": [
    "result = [r for r in x if all(z not in r for z in y)]\n"
   ]
  }
 ],
 "metadata": {
  "kernelspec": {
   "display_name": "Python 3",
   "language": "python",
   "name": "python3"
  },
  "language_info": {
   "codemirror_mode": {
    "name": "ipython",
    "version": 3
   },
   "file_extension": ".py",
   "mimetype": "text/x-python",
   "name": "python",
   "nbconvert_exporter": "python",
   "pygments_lexer": "ipython3",
   "version": "3.8.5"
  }
 },
 "nbformat": 4,
 "nbformat_minor": 4
}
